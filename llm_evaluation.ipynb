{
 "cells": [
  {
   "cell_type": "code",
   "execution_count": 1,
   "metadata": {},
   "outputs": [],
   "source": [
    "from nltk.translate.bleu_score import sentence_bleu\n",
    "from rouge import Rouge\n",
    "from typing import List"
   ]
  },
  {
   "cell_type": "code",
   "execution_count": 2,
   "metadata": {},
   "outputs": [],
   "source": [
    "def evaluate_generated_text(true: str, generated: str):\n",
    "    bleu_score = sentence_bleu([true.split(\" \")], generated.split(\" \"))\n",
    "    rouge_scores = Rouge().get_scores(true, generated)\n",
    "    print(f\"BLEU Score: {bleu_score:.4f}\\nROUGE Scores: {rouge_scores}\")"
   ]
  },
  {
   "cell_type": "code",
   "execution_count": 3,
   "metadata": {},
   "outputs": [],
   "source": [
    "true = \"Sentiment analysis is the process of classifying the emotional intent of text\"\n",
    "generated_1 = \"Sentiment analysis is process of classifying emotional intent of text\"\n",
    "generated_2 = \"Sentiment analysis is the process of the text emotional intent classification\"\n",
    "generated_3 = \"Sentiment analysis is the method of categorizing the emotional meaning of message\"\n",
    "generated_4 = \"Sentiment analysis is the process of computationally identifying and categorizing opinions expressed in a piece of text\""
   ]
  },
  {
   "cell_type": "code",
   "execution_count": 4,
   "metadata": {
    "scrolled": true
   },
   "outputs": [
    {
     "name": "stdout",
     "output_type": "stream",
     "text": [
      "Sentiment analysis is the process of classifying the emotional intent of text\n",
      "----------------------------------------------------------------------------------------------------------------\n",
      "Sentiment analysis is process of classifying emotional intent of text\n",
      "BLEU Score: 0.3975\n",
      "ROUGE Scores: [{'rouge-1': {'r': 1.0, 'p': 0.9, 'f': 0.9473684160664821}, 'rouge-2': {'r': 0.7777777777777778, 'p': 0.6363636363636364, 'f': 0.6999999950500001}, 'rouge-l': {'r': 1.0, 'p': 0.9, 'f': 0.9473684160664821}}]\n",
      "-----------------------------------------------------------------------------------------------------------------\n",
      "Sentiment analysis is the process of the text emotional intent classification\n",
      "BLEU Score: 0.5014\n",
      "ROUGE Scores: [{'rouge-1': {'r': 0.9, 'p': 0.9, 'f': 0.899999995}, 'rouge-2': {'r': 0.6, 'p': 0.5454545454545454, 'f': 0.5714285664399092}, 'rouge-l': {'r': 0.8, 'p': 0.8, 'f': 0.7999999950000002}}]\n",
      "-----------------------------------------------------------------------------------------------------------------\n",
      "Sentiment analysis is the method of categorizing the emotional meaning of message\n",
      "BLEU Score: 0.2709\n",
      "ROUGE Scores: [{'rouge-1': {'r': 0.6, 'p': 0.6, 'f': 0.5999999950000001}, 'rouge-2': {'r': 0.36363636363636365, 'p': 0.36363636363636365, 'f': 0.3636363586363637}, 'rouge-l': {'r': 0.6, 'p': 0.6, 'f': 0.5999999950000001}}]\n",
      "-----------------------------------------------------------------------------------------------------------------\n",
      "Sentiment analysis is the process of computationally identifying and categorizing opinions expressed in a piece of text\n",
      "BLEU Score: 0.3169\n",
      "ROUGE Scores: [{'rouge-1': {'r': 0.4375, 'p': 0.7, 'f': 0.5384615337278107}, 'rouge-2': {'r': 0.375, 'p': 0.5454545454545454, 'f': 0.44444443961591223}, 'rouge-l': {'r': 0.4375, 'p': 0.7, 'f': 0.5384615337278107}}]\n",
      "-----------------------------------------------------------------------------------------------------------------\n"
     ]
    }
   ],
   "source": [
    "generated_list = [generated_1, generated_2, generated_3, generated_4]\n",
    "print(true)\n",
    "print('----------------------------------------------------------------------------------------------------------------')\n",
    "for generated in generated_list:\n",
    "    print(generated)\n",
    "    evaluate_generated_text(true, generated)\n",
    "    print('-----------------------------------------------------------------------------------------------------------------')"
   ]
  }
 ],
 "metadata": {
  "kernelspec": {
   "display_name": "Python 3",
   "language": "python",
   "name": "python3"
  },
  "language_info": {
   "codemirror_mode": {
    "name": "ipython",
    "version": 3
   },
   "file_extension": ".py",
   "mimetype": "text/x-python",
   "name": "python",
   "nbconvert_exporter": "python",
   "pygments_lexer": "ipython3",
   "version": "3.6.10"
  }
 },
 "nbformat": 4,
 "nbformat_minor": 4
}
